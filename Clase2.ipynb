{
  "nbformat": 4,
  "nbformat_minor": 0,
  "metadata": {
    "colab": {
      "provenance": []
    },
    "kernelspec": {
      "name": "python3",
      "display_name": "Python 3"
    },
    "language_info": {
      "name": "python"
    }
  },
  "cells": [
    {
      "cell_type": "code",
      "execution_count": 3,
      "metadata": {
        "colab": {
          "base_uri": "https://localhost:8080/"
        },
        "id": "QwfxtTEHbOym",
        "outputId": "51957eb1-4241-4874-eacb-ebce150e6632"
      },
      "outputs": [
        {
          "output_type": "stream",
          "name": "stdout",
          "text": [
            "<class 'numpy.ndarray'>\n",
            "42\n"
          ]
        }
      ],
      "source": [
        "import numpy as np\n",
        "escalar = np.array(42)\n",
        "print(type(escalar))\n",
        "print(escalar)"
      ]
    },
    {
      "cell_type": "code",
      "source": [
        "vector = np.array([30,29,35,31,33,36,42])\n",
        "print(vector)"
      ],
      "metadata": {
        "colab": {
          "base_uri": "https://localhost:8080/"
        },
        "id": "Gz_YikLHcDpq",
        "outputId": "2ddbf89b-7d67-4bfa-97e9-5a95a456dba8"
      },
      "execution_count": 4,
      "outputs": [
        {
          "output_type": "stream",
          "name": "stdout",
          "text": [
            "[30 29 35 31 33 36 42]\n"
          ]
        }
      ]
    },
    {
      "cell_type": "code",
      "source": [
        "matrix = np.array([[1,2,3],[4,5,6],[7,8,9]])\n",
        "print(matrix)"
      ],
      "metadata": {
        "colab": {
          "base_uri": "https://localhost:8080/"
        },
        "id": "u1IBlADgclMJ",
        "outputId": "63cf7f76-51e5-42c4-8e50-f20d72407d7f"
      },
      "execution_count": 5,
      "outputs": [
        {
          "output_type": "stream",
          "name": "stdout",
          "text": [
            "[[1 2 3]\n",
            " [4 5 6]\n",
            " [7 8 9]]\n"
          ]
        }
      ]
    },
    {
      "cell_type": "code",
      "source": [
        "tensor = np.array([[1,2],[3,4],[5,6],[7,8]])\n",
        "print(tensor)"
      ],
      "metadata": {
        "colab": {
          "base_uri": "https://localhost:8080/"
        },
        "id": "YQq9okczdINN",
        "outputId": "52846492-8c68-4648-fcc0-2f7df99340ab"
      },
      "execution_count": 6,
      "outputs": [
        {
          "output_type": "stream",
          "name": "stdout",
          "text": [
            "[[1 2]\n",
            " [3 4]\n",
            " [5 6]\n",
            " [7 8]]\n"
          ]
        }
      ]
    },
    {
      "cell_type": "code",
      "source": [
        "array_arange = np.arange(10)\n",
        "print(array_arange)"
      ],
      "metadata": {
        "colab": {
          "base_uri": "https://localhost:8080/"
        },
        "id": "1VUKLZ0UeEfO",
        "outputId": "d933eccd-3d3d-4ac2-a3d0-753137559f1f"
      },
      "execution_count": 7,
      "outputs": [
        {
          "output_type": "stream",
          "name": "stdout",
          "text": [
            "[0 1 2 3 4 5 6 7 8 9]\n"
          ]
        }
      ]
    },
    {
      "cell_type": "code",
      "source": [
        "eye_matrix = np.eye(6)\n",
        "print(eye_matrix)"
      ],
      "metadata": {
        "colab": {
          "base_uri": "https://localhost:8080/"
        },
        "id": "QNvuuopEeL94",
        "outputId": "b24a061e-0869-4ab3-c732-c868ad1ee328"
      },
      "execution_count": 9,
      "outputs": [
        {
          "output_type": "stream",
          "name": "stdout",
          "text": [
            "[[1. 0. 0. 0. 0. 0.]\n",
            " [0. 1. 0. 0. 0. 0.]\n",
            " [0. 0. 1. 0. 0. 0.]\n",
            " [0. 0. 0. 1. 0. 0.]\n",
            " [0. 0. 0. 0. 1. 0.]\n",
            " [0. 0. 0. 0. 0. 1.]]\n"
          ]
        }
      ]
    },
    {
      "cell_type": "code",
      "source": [
        "diag = np.diag([1,2,3,4,5,6,7])\n",
        "print(diag)"
      ],
      "metadata": {
        "colab": {
          "base_uri": "https://localhost:8080/"
        },
        "id": "-rfwY_Z7ecFU",
        "outputId": "04859ebd-e1b4-4c41-efda-74aba1b5ae90"
      },
      "execution_count": 11,
      "outputs": [
        {
          "output_type": "stream",
          "name": "stdout",
          "text": [
            "[[1 0 0 0 0 0 0]\n",
            " [0 2 0 0 0 0 0]\n",
            " [0 0 3 0 0 0 0]\n",
            " [0 0 0 4 0 0 0]\n",
            " [0 0 0 0 5 0 0]\n",
            " [0 0 0 0 0 6 0]\n",
            " [0 0 0 0 0 0 7]]\n"
          ]
        }
      ]
    },
    {
      "cell_type": "code",
      "source": [
        "random = np.random.random((2,3))\n",
        "print(random)"
      ],
      "metadata": {
        "colab": {
          "base_uri": "https://localhost:8080/"
        },
        "id": "NyLqB3x7e2ai",
        "outputId": "d646da79-7b63-4f47-d4a5-270c3a8a6aa1"
      },
      "execution_count": 12,
      "outputs": [
        {
          "output_type": "stream",
          "name": "stdout",
          "text": [
            "[[0.23337945 0.80858466 0.06264597]\n",
            " [0.48816478 0.26244185 0.77543308]]\n"
          ]
        }
      ]
    }
  ]
}